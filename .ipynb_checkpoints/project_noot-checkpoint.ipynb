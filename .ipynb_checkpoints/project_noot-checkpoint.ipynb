version https://git-lfs.github.com/spec/v1
oid sha256:b8b8724480ce376e71d05848926dca9ac930a06f82f40160dfac7fc2bd92f5d6
size 446435
